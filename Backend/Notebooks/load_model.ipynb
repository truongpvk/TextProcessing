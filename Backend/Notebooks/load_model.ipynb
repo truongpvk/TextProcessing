{
 "cells": [
  {
   "cell_type": "code",
   "execution_count": null,
   "id": "dc1bc941-f15b-4395-b5c2-31d36e220b5b",
   "metadata": {},
   "outputs": [],
   "source": [
    "!pip install transformers"
   ]
  },
  {
   "cell_type": "code",
   "execution_count": null,
   "id": "dc65b65d-a93b-43cc-ae93-27b34b19ca74",
   "metadata": {},
   "outputs": [],
   "source": [
    "from transformers import AutoTokenizer, AutoModelForSeq2SeqLM\n",
    "\n",
    "model_names = ['truongpvk41081/summarization', 'truongpvk41081/check_grammar_en', 'truongpvk41081/translation_en2vi', 'truongpvk41081/translation_vi2en']\n",
    "folder_name = ['summarization', 'grammarly', 'translation-en2vi', 'translation-vi2en']\n",
    "path = '../Models'"
   ]
  },
  {
   "cell_type": "markdown",
   "id": "a69769aa-d9b6-449c-9b66-0413df3bb22e",
   "metadata": {},
   "source": [
    "## Lấy model nào thì chọn số tương ứng"
   ]
  },
  {
   "cell_type": "code",
   "execution_count": 1,
   "id": "bac77d4a-8537-4220-88c9-8de948e3c507",
   "metadata": {},
   "outputs": [],
   "source": [
    "summa, grammar, en2vi, vi2en = 0, 1, 2, 3"
   ]
  },
  {
   "cell_type": "code",
   "execution_count": 3,
   "id": "4e0feace-51f5-4966-8deb-6ec050b27253",
   "metadata": {},
   "outputs": [],
   "source": [
    "def load_and_save(model_index):\n",
    "    tokenizer = AutoTokenizer.frompretrained(model_names[model_index])\n",
    "    model = AutoModelForSeq2SeqLM.frompretrained(model_names[model_index])\n",
    "    model.savepretrained(f'{path}/{folder_name[model_index]}')\n",
    "    tokenizer.savepretrained(f'{path}/{folder_name[model_index]}')"
   ]
  },
  {
   "cell_type": "code",
   "execution_count": null,
   "id": "15372849-ee17-4b0e-85ec-49464299fe59",
   "metadata": {},
   "outputs": [],
   "source": [
    "# Ví dụ lấy model summarize\n",
    "load_and_save(summa)"
   ]
  }
 ],
 "metadata": {
  "kernelspec": {
   "display_name": "Python 3 (ipykernel)",
   "language": "python",
   "name": "python3"
  },
  "language_info": {
   "codemirror_mode": {
    "name": "ipython",
    "version": 3
   },
   "file_extension": ".py",
   "mimetype": "text/x-python",
   "name": "python",
   "nbconvert_exporter": "python",
   "pygments_lexer": "ipython3",
   "version": "3.12.6"
  }
 },
 "nbformat": 4,
 "nbformat_minor": 5
}
